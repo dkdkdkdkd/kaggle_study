{
 "cells": [
  {
   "cell_type": "code",
   "execution_count": 88,
   "metadata": {},
   "outputs": [],
   "source": [
    "%matplotlib inline\n",
    "import matplotlib.pyplot as plt\n",
    "import seaborn as sns\n",
    "from tqdm import tqdm\n",
    "import time"
   ]
  },
  {
   "cell_type": "code",
   "execution_count": 70,
   "metadata": {},
   "outputs": [],
   "source": [
    "import pandas as pd\n",
    "import numpy as np\n",
    "import random\n",
    "from scipy.stats import mode"
   ]
  },
  {
   "cell_type": "code",
   "execution_count": 71,
   "metadata": {},
   "outputs": [],
   "source": [
    "train_df = pd.read_csv(\"../Data/predict_student_performance_from_game_play/train.csv\")\n",
    "test_df = pd.read_csv(\"../Data/predict_student_performance_from_game_play/test.csv\")\n",
    "train_labels = pd.read_csv(\"../Data/predict_student_performance_from_game_play/train_labels.csv\")"
   ]
  },
  {
   "attachments": {},
   "cell_type": "markdown",
   "metadata": {},
   "source": [
    "### 결측치 제거"
   ]
  },
  {
   "cell_type": "code",
   "execution_count": 72,
   "metadata": {},
   "outputs": [],
   "source": [
    "train_df['page'].fillna(train_df['page'].mode()[0], inplace=True)\n",
    "# 데이터에서 결측치를 랜덤으로 하면 어떨까?\n",
    "\n",
    "train_df['room_coor_x'].fillna(train_df['room_coor_x'].mean(), inplace=True)\n",
    "train_df['room_coor_y'].fillna(train_df['room_coor_y'].mean(), inplace=True)\n",
    "train_df['screen_coor_x'].fillna(train_df['screen_coor_x'].mean(), inplace=True)\n",
    "train_df['screen_coor_y'].fillna(train_df['screen_coor_y'].mean(), inplace=True)\n",
    "train_df['hover_duration'].fillna(train_df['hover_duration'].mean(), inplace=True)\n",
    "train_df['text'].fillna(train_df['text'].mode()[0], inplace=True)\n",
    "train_df['fqid'].fillna(train_df['fqid'].mode()[0], inplace=True)\n",
    "train_df['text_fqid'].fillna(train_df['text_fqid'].mode()[0], inplace=True)"
   ]
  },
  {
   "cell_type": "code",
   "execution_count": 73,
   "metadata": {},
   "outputs": [
    {
     "data": {
      "text/plain": [
       "23562"
      ]
     },
     "execution_count": 73,
     "metadata": {},
     "output_type": "execute_result"
    }
   ],
   "source": [
    "session_id = pd.DataFrame(train_df['session_id'].value_counts())\n",
    "session_id.reset_index(inplace=True)\n",
    "session_id = session_id['index'].unique()\n",
    "len(session_id)"
   ]
  },
  {
   "cell_type": "code",
   "execution_count": 92,
   "metadata": {},
   "outputs": [
    {
     "data": {
      "text/plain": [
       "(26296946, 20)"
      ]
     },
     "execution_count": 92,
     "metadata": {},
     "output_type": "execute_result"
    }
   ],
   "source": [
    "train_x = pd.DataFrame(columns=train_df.columns)\n",
    "temp = train_df.copy() \n",
    "temp.shape"
   ]
  },
  {
   "cell_type": "code",
   "execution_count": 93,
   "metadata": {},
   "outputs": [
    {
     "name": "stderr",
     "output_type": "stream",
     "text": [
      "  5%|▌         | 1291/23562 [44:16<12:29:19,  2.02s/it]"
     ]
    }
   ],
   "source": [
    "pdar = tqdm(session_id)\n",
    "for id in pdar:\n",
    "    time.sleep(0.5)\n",
    "    train_x = pd.concat([train_x, temp.loc[temp['session_id']==id,:].sample(n=600)])\n",
    "    temp = temp.loc[temp['session_id']!=id,:]\n",
    "    \n",
    "train_x.shape"
   ]
  },
  {
   "cell_type": "code",
   "execution_count": null,
   "metadata": {},
   "outputs": [],
   "source": [
    "train_x.to_csv(\"../Data/\")"
   ]
  }
 ],
 "metadata": {
  "kernelspec": {
   "display_name": "default",
   "language": "python",
   "name": "python3"
  },
  "language_info": {
   "codemirror_mode": {
    "name": "ipython",
    "version": 3
   },
   "file_extension": ".py",
   "mimetype": "text/x-python",
   "name": "python",
   "nbconvert_exporter": "python",
   "pygments_lexer": "ipython3",
   "version": "3.10.9"
  },
  "orig_nbformat": 4
 },
 "nbformat": 4,
 "nbformat_minor": 2
}
